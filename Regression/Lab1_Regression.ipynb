{
 "cells": [
  {
   "cell_type": "markdown",
   "metadata": {},
   "source": [
    "# Assignment 2: Python experience"
   ]
  },
  {
   "cell_type": "markdown",
   "metadata": {},
   "source": []
  },
  {
   "cell_type": "code",
   "execution_count": 123,
   "metadata": {},
   "outputs": [],
   "source": [
    "import numpy as np\n",
    "import pandas as pd\n",
    "np.random.seed(1234) #set seed to ensure consistent results "
   ]
  },
  {
   "cell_type": "markdown",
   "metadata": {},
   "source": [
    "a) CREATE VECTOR X"
   ]
  },
  {
   "cell_type": "code",
   "execution_count": 124,
   "metadata": {},
   "outputs": [
    {
     "name": "stdout",
     "output_type": "stream",
     "text": [
      "0 1\n"
     ]
    }
   ],
   "source": [
    "mu, sigma = 0, 1 # mean and standard deviation\n",
    "x = np.random.normal(mu, sigma, 100)\n",
    "print(mu, sigma)\n"
   ]
  },
  {
   "cell_type": "markdown",
   "metadata": {},
   "source": [
    "b) CREATE VECTOR eps"
   ]
  },
  {
   "cell_type": "code",
   "execution_count": 125,
   "metadata": {
    "scrolled": true
   },
   "outputs": [
    {
     "name": "stdout",
     "output_type": "stream",
     "text": [
      "0 0.5\n"
     ]
    }
   ],
   "source": [
    "mu1 = 0\n",
    "sigma1 = np.sqrt(0.25) # 0.5\n",
    "eps = np.random.normal(mu1, sigma1, 100)\n",
    "print(mu1, sigma1)"
   ]
  },
  {
   "cell_type": "markdown",
   "metadata": {},
   "source": [
    "c) GENERATE VECOTR Y ACCORDING TO \n",
    "\n",
    "Y = -1 + 0.5 X + eps\n",
    "\n",
    "where -1 and 0.5 correspond to the b0 and b1 coefficients respectively. "
   ]
  },
  {
   "cell_type": "code",
   "execution_count": 126,
   "metadata": {
    "scrolled": true
   },
   "outputs": [
    {
     "name": "stdout",
     "output_type": "stream",
     "text": [
      "Lenght of vector y: 100\n"
     ]
    }
   ],
   "source": [
    "b0 = -1\n",
    "b1 = 0.5\n",
    "\n",
    "y = b0 + b1*x + eps\n",
    "\n",
    "print('Lenght of vector y:', len(y)) \n",
    "# as expected since the regression is made over 100 observations. \n"
   ]
  },
  {
   "cell_type": "markdown",
   "metadata": {},
   "source": [
    "d) Scatterplot displaying the relationship between X and y"
   ]
  },
  {
   "cell_type": "code",
   "execution_count": 127,
   "metadata": {},
   "outputs": [
    {
     "data": {
      "image/png": "[encoded data removed]",
      "text/plain": [
       "<Figure size 360x360 with 1 Axes>"
      ]
     },
     "metadata": {
      "needs_background": "light"
     },
     "output_type": "display_data"
    }
   ],
   "source": [
    "import matplotlib.pyplot as plt\n",
    "\n",
    "# Plot\n",
    "plt.figure(figsize=(5,5))\n",
    "plt.scatter(x,y,s=15)\n",
    "plt.title('Relationship between x and y')\n",
    "plt.xlabel('x')\n",
    "plt.ylabel('y')\n",
    "plt.show()\n",
    "\n"
   ]
  },
  {
   "cell_type": "markdown",
   "metadata": {},
   "source": [
    "The plot shows the 100 observations of X and Y plotted as a scatterplot. \n",
    "Each point corresponds to an observation with coordinates (x_i,y_i) for the i-th point. In general the observations seem to follow an \"uphill\" pattern which suggests a positive relationship between X and Y. "
   ]
  },
  {
   "cell_type": "markdown",
   "metadata": {},
   "source": [
    "e) FIT A LEAST SQUARES LINEAR MODEL\n"
   ]
  },
  {
   "cell_type": "code",
   "execution_count": 128,
   "metadata": {
    "scrolled": true
   },
   "outputs": [
    {
     "name": "stdout",
     "output_type": "stream",
     "text": [
      "Predicted b0: -1.026506385858171 compared to -1\n",
      "Predicted b1: [0.54070724] compared to 0.5\n"
     ]
    },
    {
     "data": {
      "image/png": "[encoded data removed]",
      "text/plain": [
       "<Figure size 360x360 with 1 Axes>"
      ]
     },
     "metadata": {
      "needs_background": "light"
     },
     "output_type": "display_data"
    },
    {
     "name": "stdout",
     "output_type": "stream",
     "text": [
      "Coefficient of determination for Linear Regression: 0.5493701391253949\n",
      "RMSE for Linear Regression=> 0.48759758514378454\n"
     ]
    }
   ],
   "source": [
    "from sklearn.linear_model import LinearRegression\n",
    "\n",
    "lm=LinearRegression()\n",
    "lm.fit(x.reshape(-1,1),y)\n",
    "\n",
    "# how it performs\n",
    "\n",
    "y_pred=lm.predict(x.reshape(-1,1))\n",
    "\n",
    "print('Predicted b0:', lm.intercept_, 'compared to', b0)\n",
    "print('Predicted b1:', lm.coef_, 'compared to', b1)\n",
    "\n",
    "\n",
    "# plotting predictions\n",
    "plt.figure(figsize=(5,5))\n",
    "plt.scatter(x,y,s=15)\n",
    "plt.plot(x,y_pred,color='r',label='Linear Regression')\n",
    "plt.title('Relationship between x and y')\n",
    "plt.xlabel('x',fontsize=16)\n",
    "plt.ylabel('y',fontsize=16)\n",
    "plt.legend()\n",
    "plt.show()\n",
    "\n",
    "\n",
    "from sklearn.metrics import r2_score\n",
    "r_sq = r2_score(y, y_pred) #Compute the R2 statistics\n",
    "print('Coefficient of determination for Linear Regression:', r_sq)\n",
    "\n",
    "from sklearn.metrics import mean_squared_error\n",
    "print('RMSE for Linear Regression=>',np.sqrt(mean_squared_error(y,y_pred)))\n"
   ]
  },
  {
   "cell_type": "code",
   "execution_count": 129,
   "metadata": {},
   "outputs": [
    {
     "data": {
      "text/plain": [
       "0.5493701391253949"
      ]
     },
     "execution_count": 129,
     "metadata": {},
     "output_type": "execute_result"
    }
   ],
   "source": [
    "r2_score(y, y_pred)"
   ]
  },
  {
   "cell_type": "markdown",
   "metadata": {},
   "source": [
    "f) Fit polynomial regression using x and x^2 (i.e. 2nd degree) \n",
    "\n",
    "Display the curve on the scatterplot \n",
    "\n",
    "Evidence quadratic term improves the model fit?"
   ]
  },
  {
   "cell_type": "code",
   "execution_count": 130,
   "metadata": {
    "scrolled": true
   },
   "outputs": [
    {
     "data": {
      "image/png": "[encoded data removed]",
      "text/plain": [
       "<Figure size 360x360 with 1 Axes>"
      ]
     },
     "metadata": {
      "needs_background": "light"
     },
     "output_type": "display_data"
    },
    {
     "name": "stdout",
     "output_type": "stream",
     "text": [
      "Coefficient of determination: -0.7182974965188058\n",
      "RMSE for Polynomial Regression=> 0.9521398484050775\n"
     ]
    }
   ],
   "source": [
    "# importing libraries for polynomial transform\n",
    "from sklearn.preprocessing import PolynomialFeatures\n",
    "from sklearn.pipeline import Pipeline\n",
    "\n",
    "# creating pipeline and fitting it on data\n",
    "Input=[('polynomial',PolynomialFeatures(degree=2)),('modal',LinearRegression())]\n",
    "pipe=Pipeline(Input)\n",
    "pipe.fit(x.reshape(-1,1),y.reshape(-1,1))\n",
    "\n",
    "poly_pred=pipe.predict(x.reshape(-1,1))\n",
    "\n",
    "#sorting predicted values with respect to predictor\n",
    "sorted_zip = sorted(zip(x,poly_pred))\n",
    "x_poly, poly_pred = zip(*sorted_zip)\n",
    "\n",
    "#plotting predictions\n",
    "plt.figure(figsize=(5,5))\n",
    "plt.scatter(x,y,s=15)\n",
    "plt.plot(x,y_pred,color='r',label='Linear Regression')\n",
    "plt.plot(x_poly,poly_pred,color='g',label='Polynomial Regression')\n",
    "plt.xlabel('Predictor',fontsize=16)\n",
    "plt.ylabel('Target',fontsize=16)\n",
    "plt.legend()\n",
    "plt.show()\n",
    "\n",
    "\n",
    "r_sq_poly = r2_score(y, poly_pred) #Compute the R2 statistics\n",
    "print('Coefficient of determination:', r_sq_poly)\n",
    "\n",
    "print('RMSE for Polynomial Regression=>',np.sqrt(mean_squared_error(y,poly_pred)))\n",
    "\n"
   ]
  },
  {
   "cell_type": "code",
   "execution_count": 131,
   "metadata": {},
   "outputs": [
    {
     "data": {
      "text/plain": [
       "-0.7182974965188058"
      ]
     },
     "execution_count": 131,
     "metadata": {},
     "output_type": "execute_result"
    }
   ],
   "source": [
    "r2_score(y, poly_pred)"
   ]
  },
  {
   "cell_type": "code",
   "execution_count": 132,
   "metadata": {},
   "outputs": [
    {
     "name": "stdout",
     "output_type": "stream",
     "text": [
      "Coefficient of determination lm: 0.5493701391253949\n",
      "Coefficient of determination polym: -0.7182974965188058\n"
     ]
    }
   ],
   "source": [
    "print('Coefficient of determination lm:', r_sq)\n",
    "print('Coefficient of determination polym:', r_sq_poly)"
   ]
  },
  {
   "cell_type": "markdown",
   "metadata": {},
   "source": [
    "g) Repeat (a) to (f) with model y s.t. \n",
    "\n",
    "y = -1 +0.5X + X^2 + eps \n",
    "\n",
    "Note: The regression line will be named as y_2 in order to differentiate it with the previous model."
   ]
  },
  {
   "cell_type": "code",
   "execution_count": 133,
   "metadata": {},
   "outputs": [
    {
     "data": {
      "image/png": "[encoded data removed]",
      "text/plain": [
       "<Figure size 360x360 with 1 Axes>"
      ]
     },
     "metadata": {
      "needs_background": "light"
     },
     "output_type": "display_data"
    }
   ],
   "source": [
    "# create vector x\n",
    "mu, sigma = 0, 1 # mean and standard deviation\n",
    "x = np.random.normal(mu, sigma, 100)\n",
    "# create vector eps \n",
    "mu1 = 0\n",
    "sigma1 = np.sqrt(0.25) # 0.5\n",
    "eps = np.random.normal(mu1, sigma1, 100)\n",
    "\n",
    "# use x and eps to generate y (same length as x)\n",
    "b0_2 = -1\n",
    "b1_2 = 0.5\n",
    "b2_2 = 1\n",
    "\n",
    "y_2 = b0_2 + b1_2*x + b2_2*x**2 + eps\n",
    "\n",
    "# Create scatter plot  displaying relationship between x and y\n",
    "# Plot\n",
    "plt.figure(figsize=(5,5))\n",
    "plt.scatter(x,y_2,s=15)\n",
    "plt.title('Relationship between x and y_2')\n",
    "plt.xlabel('x',fontsize=16)\n",
    "plt.ylabel('y',fontsize=16)\n",
    "plt.show()"
   ]
  },
  {
   "cell_type": "code",
   "execution_count": 134,
   "metadata": {},
   "outputs": [
    {
     "name": "stdout",
     "output_type": "stream",
     "text": [
      "Predicted b0: [-0.07718536] compared to -1\n",
      "Predicted b1: [[0.7535994]] compared to 0.5 and 1\n"
     ]
    },
    {
     "data": {
      "image/png": "[encoded data removed]",
      "text/plain": [
       "<Figure size 360x360 with 1 Axes>"
      ]
     },
     "metadata": {
      "needs_background": "light"
     },
     "output_type": "display_data"
    },
    {
     "name": "stdout",
     "output_type": "stream",
     "text": [
      "Coefficient of determination for Linear Regression: 0.20247784832070836\n",
      "RMSE for Linear Regression=> 1.447091903577612\n"
     ]
    }
   ],
   "source": [
    "# fit linear regression to predict y using x\n",
    "lm=LinearRegression()\n",
    "lm.fit(x.reshape(-1,1),y_2.reshape(-1,1))\n",
    "\n",
    "# how it performs\n",
    "\n",
    "y_pred2=lm.predict(x.reshape(-1,1))\n",
    "\n",
    "print('Predicted b0:', lm.intercept_, 'compared to', b0_2)\n",
    "print('Predicted b1:', lm.coef_, 'compared to', b1_2, 'and', b2_2)\n",
    "\n",
    "\n",
    "\n",
    "# display least squares line\n",
    "plt.figure(figsize=(5,5))\n",
    "plt.scatter(x,y_2,s=15)\n",
    "plt.plot(x,y_pred2,color='r',label='Linear Regression')\n",
    "plt.title('Relationship between x and y_2')\n",
    "plt.xlabel('x',fontsize=16)\n",
    "plt.ylabel('y',fontsize=16)\n",
    "plt.legend()\n",
    "plt.show()\n",
    "\n",
    "\n",
    "from sklearn.metrics import r2_score\n",
    "r_sq2 = r2_score(y_2, y_pred2) #Compute the R2 statistics\n",
    "print('Coefficient of determination for Linear Regression:', r_sq2)\n",
    "\n",
    "from sklearn.metrics import mean_squared_error\n",
    "print('RMSE for Linear Regression=>',np.sqrt(mean_squared_error(y,y_pred2)))"
   ]
  },
  {
   "cell_type": "code",
   "execution_count": 135,
   "metadata": {},
   "outputs": [
    {
     "data": {
      "image/png": "[encoded data removed]",
      "text/plain": [
       "<Figure size 360x360 with 1 Axes>"
      ]
     },
     "metadata": {
      "needs_background": "light"
     },
     "output_type": "display_data"
    },
    {
     "name": "stdout",
     "output_type": "stream",
     "text": [
      "Coefficient of determination Poly: 0.9116997189096664\n",
      "RMSE for Polynomial Regression=> 2.2840285306675985\n"
     ]
    }
   ],
   "source": [
    "# importing libraries for polynomial transform\n",
    "from sklearn.preprocessing import PolynomialFeatures\n",
    "from sklearn.pipeline import Pipeline\n",
    "\n",
    "# creating pipeline and fitting it on data\n",
    "Input=[('polynomial',PolynomialFeatures(degree=2)),('modal',LinearRegression())]\n",
    "pipe=Pipeline(Input)\n",
    "pipe.fit(x.reshape(-1,1),y_2.reshape(-1,1))\n",
    "\n",
    "poly_pred=pipe.predict(x.reshape(-1,1))\n",
    "\n",
    "#sorting predicted values with respect to predictor\n",
    "sorted_zip = sorted(zip(x,poly_pred))\n",
    "x_poly2, poly_pred2 = zip(*sorted_zip)\n",
    "\n",
    "\n",
    "#plotting predictions\n",
    "plt.figure(figsize=(5,5))\n",
    "plt.scatter(x,y_2,s=15)\n",
    "plt.plot(x,y_pred2,color='r',label='Linear Regression')\n",
    "plt.plot(x_poly2,poly_pred2,color='g',label='Polynomial Regression')\n",
    "plt.title('Relationship between x and y_2')\n",
    "plt.xlabel('x',fontsize=16)\n",
    "plt.ylabel('y',fontsize=16)\n",
    "plt.legend()\n",
    "plt.show()\n",
    "\n",
    "\n",
    "r_sq_poly2 = r2_score(y_2, poly_pred) #Compute the R2 statistics\n",
    "print('Coefficient of determination Poly:', r_sq_poly2)\n",
    "\n",
    "print('RMSE for Polynomial Regression=>',np.sqrt(mean_squared_error(y_2,poly_pred2)))\n",
    "\n"
   ]
  },
  {
   "cell_type": "markdown",
   "metadata": {},
   "source": [
    "EXTRA: REPEAT THE SAME BY FITTING A LASSO "
   ]
  }
 ],
 "metadata": {
  "kernelspec": {
   "display_name": "Python 3",
   "language": "python",
   "name": "python3"
  },
  "language_info": {
   "codemirror_mode": {
    "name": "ipython",
    "version": 3
   },
   "file_extension": ".py",
   "mimetype": "text/x-python",
   "name": "python",
   "nbconvert_exporter": "python",
   "pygments_lexer": "ipython3",
   "version": "3.7.7"
  }
 },
 "nbformat": 4,
 "nbformat_minor": 4
}
